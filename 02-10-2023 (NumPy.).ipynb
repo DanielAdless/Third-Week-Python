{
 "cells": [
  {
   "cell_type": "markdown",
   "id": "ac5d7412",
   "metadata": {},
   "source": [
    "**Numpy NumPy is one of the most important libraries and is often used in the Python programming language for numerical computing**"
   ]
  },
  {
   "cell_type": "markdown",
   "id": "c0719bb9",
   "metadata": {},
   "source": [
    "**NumPy arrays are the basic data structures used in NumPy (Numeric Python) libraries.**"
   ]
  },
  {
   "cell_type": "code",
   "execution_count": 4,
   "id": "5dbbeb4e",
   "metadata": {},
   "outputs": [],
   "source": [
    "import numpy as np"
   ]
  },
  {
   "cell_type": "code",
   "execution_count": 5,
   "id": "98497a19",
   "metadata": {},
   "outputs": [
    {
     "name": "stdout",
     "output_type": "stream",
     "text": [
      "1.24.3\n"
     ]
    }
   ],
   "source": [
    "print(np.__version__)"
   ]
  },
  {
   "cell_type": "code",
   "execution_count": 6,
   "id": "09408274",
   "metadata": {},
   "outputs": [
    {
     "name": "stdout",
     "output_type": "stream",
     "text": [
      "[1 2 3 4 5]\n"
     ]
    }
   ],
   "source": [
    "arr = np.array([1, 2, 3, 4, 5])\n",
    "print(arr)"
   ]
  },
  {
   "cell_type": "code",
   "execution_count": 8,
   "id": "8204b249",
   "metadata": {},
   "outputs": [
    {
     "name": "stdout",
     "output_type": "stream",
     "text": [
      "<class 'numpy.ndarray'>\n"
     ]
    }
   ],
   "source": [
    "import numpy as np\n",
    "\n",
    "arr = np.array([1, 2, 3, 4, 5])\n",
    "\n",
    "print(type(arr))"
   ]
  },
  {
   "cell_type": "code",
   "execution_count": 9,
   "id": "5c5b346a",
   "metadata": {},
   "outputs": [
    {
     "name": "stdout",
     "output_type": "stream",
     "text": [
      "[1 2 3 4 5]\n"
     ]
    }
   ],
   "source": [
    "import numpy as np\n",
    "\n",
    "arr = np.array([1, 2, 3, 4, 5])\n",
    "\n",
    "print(arr)"
   ]
  },
  {
   "cell_type": "code",
   "execution_count": 12,
   "id": "8f80ce47",
   "metadata": {},
   "outputs": [
    {
     "name": "stdout",
     "output_type": "stream",
     "text": [
      "Rata-rata: 3.0\n",
      "Jumlah: 15\n",
      "Nilai maksimum: 5\n",
      "Nilai minimum: 1\n"
     ]
    }
   ],
   "source": [
    "# Task 1\n",
    "\n",
    "import numpy as np\n",
    "\n",
    "# Create NumPy array\n",
    "arr = np.array([1, 2, 3, 4, 5])\n",
    "\n",
    "# Calculating average\n",
    "rata_rata = np.mean(arr)\n",
    "print(\"Rata-rata:\", rata_rata)\n",
    "\n",
    "# Counts the number of elements\n",
    "jumlah = np.sum(arr)\n",
    "print(\"Jumlah:\", jumlah)\n",
    "\n",
    "# Searching for maximum and minimum values\n",
    "nilai_max = np.max(arr)\n",
    "nilai_min = np.min(arr)\n",
    "print(\"Nilai maksimum:\", nilai_max)\n",
    "print(\"Nilai minimum:\", nilai_min)\n",
    "\n"
   ]
  },
  {
   "cell_type": "code",
   "execution_count": null,
   "id": "3afcfcc8",
   "metadata": {},
   "outputs": [],
   "source": [
    "# Task 1"
   ]
  },
  {
   "cell_type": "code",
   "execution_count": 16,
   "id": "d913f7b2",
   "metadata": {},
   "outputs": [],
   "source": [
    "import numpy as np"
   ]
  },
  {
   "cell_type": "code",
   "execution_count": 17,
   "id": "a1c19300",
   "metadata": {},
   "outputs": [
    {
     "name": "stdout",
     "output_type": "stream",
     "text": [
      "1.24.3\n"
     ]
    }
   ],
   "source": [
    "print(np.__version__)"
   ]
  },
  {
   "cell_type": "code",
   "execution_count": 14,
   "id": "440cbfcb",
   "metadata": {},
   "outputs": [
    {
     "name": "stdout",
     "output_type": "stream",
     "text": [
      "[ 0  1  2  3  4  5  6  7  8  9 10]\n"
     ]
    }
   ],
   "source": [
    "import numpy as np\n",
    "\n",
    "# Create array with zero range up to ten\n",
    "arr = np.arange(11)\n",
    "\n",
    "# Show array\n",
    "print(arr)\n"
   ]
  },
  {
   "cell_type": "code",
   "execution_count": 19,
   "id": "3392f1d7",
   "metadata": {},
   "outputs": [
    {
     "name": "stdout",
     "output_type": "stream",
     "text": [
      "<class 'numpy.ndarray'>\n"
     ]
    }
   ],
   "source": [
    "# Use type() function to check data types\n",
    "import numpy as np\n",
    "\n",
    "arr = np.arange(11)\n",
    "\n",
    "print(type(arr))  \n"
   ]
  },
  {
   "cell_type": "code",
   "execution_count": 21,
   "id": "2be092ff",
   "metadata": {},
   "outputs": [
    {
     "name": "stdout",
     "output_type": "stream",
     "text": [
      "Elemen pada baris 1, kolom 2: 2\n",
      "Elemen pada baris 2, kolom 3: 6\n"
     ]
    }
   ],
   "source": [
    "import numpy as np\n",
    "\n",
    "# Create a 2x4 matrix\n",
    "matriks = np.array([[1, 2, 3], [4, 5, 6]])\n",
    "\n",
    "# Accessing matrix elements\n",
    "elemen_1_2 = matriks[0, 1]  # First row, second column\n",
    "elemen_2_3 = matriks[1, 2]  # Second row, third column\n",
    "\n",
    "print(\"Elemen pada baris 1, kolom 2:\", elemen_1_2)\n",
    "print(\"Elemen pada baris 2, kolom 3:\", elemen_2_3)\n"
   ]
  },
  {
   "cell_type": "code",
   "execution_count": null,
   "id": "ce7be92f",
   "metadata": {},
   "outputs": [],
   "source": [
    "# Numpy Advanced"
   ]
  },
  {
   "cell_type": "code",
   "execution_count": 22,
   "id": "a536a2ac",
   "metadata": {},
   "outputs": [
    {
     "name": "stdout",
     "output_type": "stream",
     "text": [
      "42\n"
     ]
    }
   ],
   "source": [
    "import numpy as np\n",
    "\n",
    "arr = np.array(42)\n",
    "\n",
    "print(arr)"
   ]
  },
  {
   "cell_type": "code",
   "execution_count": 23,
   "id": "fb45566f",
   "metadata": {},
   "outputs": [
    {
     "name": "stdout",
     "output_type": "stream",
     "text": [
      "[1 2 3 4 5]\n"
     ]
    }
   ],
   "source": [
    "import numpy as np\n",
    "\n",
    "arr = np.array([1, 2, 3, 4, 5])\n",
    "\n",
    "print(arr)"
   ]
  },
  {
   "cell_type": "code",
   "execution_count": 24,
   "id": "2864c7dd",
   "metadata": {},
   "outputs": [
    {
     "name": "stdout",
     "output_type": "stream",
     "text": [
      "[[1 2 3]\n",
      " [4 5 6]\n",
      " [7 8 9]]\n"
     ]
    }
   ],
   "source": [
    "import numpy as np\n",
    "\n",
    "arr = np.array([[1, 2, 3],[4, 5, 6],[7, 8, 9]])\n",
    "\n",
    "print(arr)"
   ]
  },
  {
   "cell_type": "code",
   "execution_count": 11,
   "id": "c410a317",
   "metadata": {},
   "outputs": [
    {
     "name": "stdout",
     "output_type": "stream",
     "text": [
      " 1  2  3 \n",
      " 4  5  6 \n"
     ]
    }
   ],
   "source": [
    "import numpy as np\n",
    "\n",
    "# Create a 2x3 matrix\n",
    "matriks = np.array([[1, 2, 3], [4, 5, 6]])\n",
    "\n",
    "# Display matrix in string format\n",
    "for baris in matriks:\n",
    "    for elemen in baris:\n",
    "        print(f\"{elemen:2d}\", end=\" \")\n",
    "    print()\n"
   ]
  },
  {
   "cell_type": "code",
   "execution_count": null,
   "id": "a5b1cf92",
   "metadata": {},
   "outputs": [],
   "source": [
    "# Task 2"
   ]
  },
  {
   "cell_type": "code",
   "execution_count": 26,
   "id": "b4d66690",
   "metadata": {},
   "outputs": [
    {
     "name": "stdout",
     "output_type": "stream",
     "text": [
      "0-D Array (Skalar):\n",
      "52\n"
     ]
    }
   ],
   "source": [
    "# Creating 0-D array (scalar)\n",
    "import numpy as np\n",
    "skalar = np.array(52)\n",
    "print(\"0-D Array (Skalar):\")\n",
    "print(skalar)\n"
   ]
  },
  {
   "cell_type": "code",
   "execution_count": 27,
   "id": "e93b83c6",
   "metadata": {},
   "outputs": [
    {
     "name": "stdout",
     "output_type": "stream",
     "text": [
      "1-D Array (Vektor):\n",
      "[1 2 3 4 5]\n"
     ]
    }
   ],
   "source": [
    "# Create 1-D array (vector)\n",
    "import numpy as np\n",
    "vektor = np.array([1, 2, 3, 4, 5])\n",
    "print(\"1-D Array (Vektor):\")\n",
    "print(vektor)\n"
   ]
  },
  {
   "cell_type": "code",
   "execution_count": 24,
   "id": "a16eab59",
   "metadata": {},
   "outputs": [
    {
     "name": "stdout",
     "output_type": "stream",
     "text": [
      "[[1 2 3]\n",
      " [4 5 6]]\n",
      "Dimensi: 2\n"
     ]
    }
   ],
   "source": [
    "# Create 2-D array (Matrix)\n",
    "import numpy as np\n",
    "matrix = np.array([[1, 2, 3], [4, 5, 6]])\n",
    "print(matrix)\n",
    "print(\"Dimensi:\", matrix.ndim)\n"
   ]
  },
  {
   "cell_type": "code",
   "execution_count": 5,
   "id": "c8825838",
   "metadata": {},
   "outputs": [
    {
     "name": "stdout",
     "output_type": "stream",
     "text": [
      "[[[ 1  2  3]\n",
      "  [ 4  5  6]]\n",
      "\n",
      " [[ 7  8  9]\n",
      "  [10 11 12]]]\n",
      "Dimensi: 3\n"
     ]
    }
   ],
   "source": [
    "# Create a three-dimensional array\n",
    "import numpy as np\n",
    "\n",
    "data = np.array([[[1, 2, 3], [4, 5, 6]], [[7, 8, 9], [10, 11, 12]]])\n",
    "\n",
    "print(data)\n",
    "print(\"Dimensi:\", data.ndim)\n"
   ]
  },
  {
   "cell_type": "code",
   "execution_count": 35,
   "id": "7ee9eb1d",
   "metadata": {},
   "outputs": [
    {
     "name": "stdout",
     "output_type": "stream",
     "text": [
      "Hasil Penggabungan:\n",
      "[52  1  2  3  4  5  6  7  8  9 10 11 12 13 14 15]\n",
      "\n",
      "Dimensi Array:\n",
      "0-D Array (Skalar): 0\n",
      "1-D Array (Vektor): 1\n",
      "2-D Array (Matriks): 2\n",
      "3-D Array: 3\n"
     ]
    }
   ],
   "source": [
    "# Task 3 create arrays of various dimensions\n",
    "array_0d = np.array(52)  \n",
    "array_1d = np.array([1, 2, 3])  \n",
    "array_2d = np.array([[4, 5], [6, 7]])  \n",
    "array_3d = np.array([[[8, 9], [10, 11]], [[12, 13], [14, 15]]])  \n",
    "\n",
    "# Merging all arrays into one large array\n",
    "gabung = np.hstack((np.atleast_1d(array_0d), array_1d, array_2d.reshape(-1), array_3d.reshape(-1)))\n",
    "\n",
    "# Show merge results\n",
    "print(\"Hasil Penggabungan:\")\n",
    "print(gabung)\n",
    "\n",
    "# Checking each array's dimensions\n",
    "print(\"\\nDimensi Array:\")\n",
    "print(\"0-D Array (Skalar):\", array_0d.ndim)\n",
    "print(\"1-D Array (Vektor):\", array_1d.ndim)\n",
    "print(\"2-D Array (Matriks):\", array_2d.ndim)\n",
    "print(\"3-D Array:\", array_3d.ndim)\n"
   ]
  },
  {
   "cell_type": "code",
   "execution_count": null,
   "id": "8e364124",
   "metadata": {},
   "outputs": [],
   "source": [
    "# Advanced"
   ]
  },
  {
   "cell_type": "code",
   "execution_count": 39,
   "id": "79fcb22d",
   "metadata": {},
   "outputs": [
    {
     "name": "stdout",
     "output_type": "stream",
     "text": [
      "7\n"
     ]
    }
   ],
   "source": [
    "import numpy as np\n",
    "\n",
    "arr = np.array([1, 2, 3, 4])\n",
    "\n",
    "print(arr[2] + arr[3])\n"
   ]
  },
  {
   "cell_type": "code",
   "execution_count": 41,
   "id": "9e8d1747",
   "metadata": {},
   "outputs": [
    {
     "name": "stdout",
     "output_type": "stream",
     "text": [
      "Elemen pada baris 1, kolom 2: 2\n"
     ]
    }
   ],
   "source": [
    "import numpy as np\n",
    "\n",
    "# Create a 2D array\n",
    "arr = np.array([[1, 2, 3, 4, 5], [6, 7, 8, 9, 10]])\n",
    "\n",
    "# Accessing elements in row 1, column 2\n",
    "print('Elemen pada baris 1, kolom 2:', arr[0, 1])\n"
   ]
  },
  {
   "cell_type": "code",
   "execution_count": 44,
   "id": "5da483f2",
   "metadata": {},
   "outputs": [
    {
     "name": "stdout",
     "output_type": "stream",
     "text": [
      "Hasil Penjumlahan Semua Elemen:\n",
      "45\n",
      "\n",
      "Elemen Baris Kedua:\n",
      "[4 5 6]\n",
      "\n",
      "Elemen Kolom Kedua:\n",
      "[2 5 8]\n"
     ]
    }
   ],
   "source": [
    "# Task 4\n",
    "\n",
    "import numpy as np\n",
    "\n",
    "#  2D array with 3 lists (lines)\n",
    "array_2d = np.array([[1, 2, 3], [4, 5, 6], [7, 8, 9,]])\n",
    "\n",
    "# Using add operations operation\n",
    "jumlah = np.sum(array_2d)\n",
    "print(\"Hasil Penjumlahan Semua Elemen:\")\n",
    "print(jumlah)\n",
    "\n",
    "# Slicing to access specific rows and columns\n",
    "baris_ke_2 = array_2d[1]  # second line (index 1)\n",
    "kolom_ke_2 = array_2d[:, 1]  # second column (index 1)\n",
    "\n",
    "print(\"\\nElemen Baris Kedua:\")\n",
    "print(baris_ke_2)\n",
    "\n",
    "print(\"\\nElemen Kolom Kedua:\")\n",
    "print(kolom_ke_2)\n"
   ]
  },
  {
   "cell_type": "code",
   "execution_count": 47,
   "id": "4de21b70",
   "metadata": {},
   "outputs": [
    {
     "name": "stdout",
     "output_type": "stream",
     "text": [
      "Elemen di indeks (1, 0, 2): 9\n"
     ]
    }
   ],
   "source": [
    "# Advanced\n",
    "import numpy as np\n",
    "\n",
    "array = np.array([[[1, 2, 3], [4, 5, 6]], [[7, 8, 9], [10, 11, 12]]])  \n",
    "\n",
    "elemen = array[1, 0, 2]\n",
    "\n",
    "print(\"Elemen di indeks (1, 0, 2):\", elemen)"
   ]
  },
  {
   "cell_type": "code",
   "execution_count": 49,
   "id": "ae8253ab",
   "metadata": {},
   "outputs": [
    {
     "name": "stdout",
     "output_type": "stream",
     "text": [
      "Elemen terakhir dalam matriks indeks (0, 1): 10\n"
     ]
    }
   ],
   "source": [
    "import numpy as np\n",
    "\n",
    "array = np.array([[[1, 2, 3, 4, 5], [6, 7, 8, 9, 10]]])  \n",
    "\n",
    "elemen = array[0, 1, -1]\n",
    "\n",
    "print(\"Elemen terakhir dalam matriks indeks (0, 1):\", elemen)\n"
   ]
  },
  {
   "cell_type": "code",
   "execution_count": 1,
   "id": "318f3430",
   "metadata": {},
   "outputs": [
    {
     "name": "stdout",
     "output_type": "stream",
     "text": [
      "Elemen pertama: 1\n",
      "Elemen kelima: 5\n",
      "Elemen terakhir: 10\n"
     ]
    }
   ],
   "source": [
    "import numpy as np\n",
    "\n",
    "# Create numpy array\n",
    "arr = np.array([1, 2, 3, 4, 5, 6, 7, 8, 9, 10])\n",
    "\n",
    "# Access elements by index\n",
    "elemen_pertama = arr[0]  # Accessing the first element with index 0\n",
    "elemen_kelima = arr[4]   # Accessing fifth element with index 4\n",
    "elemen_terakhir = arr[-1] # Accessing last element with index -1\n",
    "\n",
    "print(\"Elemen pertama:\", elemen_pertama)\n",
    "print(\"Elemen kelima:\", elemen_kelima)\n",
    "print(\"Elemen terakhir:\", elemen_terakhir)\n"
   ]
  },
  {
   "cell_type": "code",
   "execution_count": null,
   "id": "578f4956",
   "metadata": {},
   "outputs": [],
   "source": []
  },
  {
   "cell_type": "code",
   "execution_count": null,
   "id": "bc0683b4",
   "metadata": {},
   "outputs": [],
   "source": []
  },
  {
   "cell_type": "code",
   "execution_count": null,
   "id": "44e5fbd2",
   "metadata": {},
   "outputs": [],
   "source": []
  }
 ],
 "metadata": {
  "kernelspec": {
   "display_name": "Python 3 (ipykernel)",
   "language": "python",
   "name": "python3"
  },
  "language_info": {
   "codemirror_mode": {
    "name": "ipython",
    "version": 3
   },
   "file_extension": ".py",
   "mimetype": "text/x-python",
   "name": "python",
   "nbconvert_exporter": "python",
   "pygments_lexer": "ipython3",
   "version": "3.11.4"
  }
 },
 "nbformat": 4,
 "nbformat_minor": 5
}
