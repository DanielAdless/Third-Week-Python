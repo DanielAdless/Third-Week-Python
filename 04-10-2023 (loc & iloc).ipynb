{
 "cells": [
  {
   "cell_type": "markdown",
   "id": "6612fe7c",
   "metadata": {},
   "source": [
    "**loc & iloc**\n",
    "\n",
    "loc: This is used for selection by label or index name\n",
    "\n",
    "iloc: This is used for selection by integer index. In this case, you provide an integer index for the row and/or column you want to select.\n"
   ]
  },
  {
   "cell_type": "code",
   "execution_count": null,
   "id": "19c45e21",
   "metadata": {},
   "outputs": [],
   "source": [
    "# Pandas\n",
    "# loc & iloc"
   ]
  },
  {
   "cell_type": "code",
   "execution_count": 5,
   "id": "c787d903",
   "metadata": {},
   "outputs": [],
   "source": [
    "import pandas as pd"
   ]
  },
  {
   "cell_type": "code",
   "execution_count": 42,
   "id": "e5b5000c",
   "metadata": {},
   "outputs": [],
   "source": [
    "data_2 = pd.Series([0.25, 0.50, 0.75, 1], index=[2, 5, 3, 7])"
   ]
  },
  {
   "cell_type": "code",
   "execution_count": 43,
   "id": "a6bb8ace",
   "metadata": {},
   "outputs": [
    {
     "data": {
      "text/plain": [
       "0.75"
      ]
     },
     "execution_count": 43,
     "metadata": {},
     "output_type": "execute_result"
    }
   ],
   "source": [
    "data_2.loc[3] # explicit slinking"
   ]
  },
  {
   "cell_type": "code",
   "execution_count": 10,
   "id": "a94126f9",
   "metadata": {},
   "outputs": [
    {
     "data": {
      "text/plain": [
       "3    0.75\n",
       "dtype: float64"
      ]
     },
     "execution_count": 10,
     "metadata": {},
     "output_type": "execute_result"
    }
   ],
   "source": [
    "data_2[2:3] # implicit slinking"
   ]
  },
  {
   "cell_type": "code",
   "execution_count": null,
   "id": "0f9c1d78",
   "metadata": {},
   "outputs": [],
   "source": [
    "# iloc"
   ]
  },
  {
   "cell_type": "code",
   "execution_count": 11,
   "id": "c8633d99",
   "metadata": {},
   "outputs": [
    {
     "data": {
      "text/plain": [
       "1.0"
      ]
     },
     "execution_count": 11,
     "metadata": {},
     "output_type": "execute_result"
    }
   ],
   "source": [
    "data_2.iloc[3]"
   ]
  },
  {
   "cell_type": "code",
   "execution_count": 12,
   "id": "43b150c4",
   "metadata": {},
   "outputs": [
    {
     "data": {
      "text/plain": [
       "3    0.75\n",
       "dtype: float64"
      ]
     },
     "execution_count": 12,
     "metadata": {},
     "output_type": "execute_result"
    }
   ],
   "source": [
    "data_2.iloc[2:3]"
   ]
  },
  {
   "cell_type": "code",
   "execution_count": null,
   "id": "542e06cb",
   "metadata": {},
   "outputs": [],
   "source": [
    "# Task 1"
   ]
  },
  {
   "cell_type": "code",
   "execution_count": 30,
   "id": "82bfff65",
   "metadata": {},
   "outputs": [],
   "source": [
    "data = pd.Series([0.65, 3, 0.85, 1, 2], index=[2, 5, 3, 7, 10])"
   ]
  },
  {
   "cell_type": "code",
   "execution_count": 31,
   "id": "ad3c71fa",
   "metadata": {},
   "outputs": [
    {
     "data": {
      "text/plain": [
       "2     0.65\n",
       "5     3.00\n",
       "3     0.85\n",
       "7     1.00\n",
       "10    2.00\n",
       "dtype: float64"
      ]
     },
     "execution_count": 31,
     "metadata": {},
     "output_type": "execute_result"
    }
   ],
   "source": [
    "data"
   ]
  },
  {
   "cell_type": "code",
   "execution_count": 32,
   "id": "ae488d97",
   "metadata": {},
   "outputs": [
    {
     "data": {
      "text/plain": [
       "0.85"
      ]
     },
     "execution_count": 32,
     "metadata": {},
     "output_type": "execute_result"
    }
   ],
   "source": [
    "data.loc[3] # Explicit"
   ]
  },
  {
   "cell_type": "code",
   "execution_count": 33,
   "id": "06f5289e",
   "metadata": {},
   "outputs": [
    {
     "data": {
      "text/plain": [
       "1.0"
      ]
     },
     "execution_count": 33,
     "metadata": {},
     "output_type": "execute_result"
    }
   ],
   "source": [
    "data.iloc[3] # Implicit"
   ]
  },
  {
   "cell_type": "code",
   "execution_count": 29,
   "id": "080e7bd1",
   "metadata": {},
   "outputs": [
    {
     "ename": "KeyError",
     "evalue": "0",
     "output_type": "error",
     "traceback": [
      "\u001b[1;31m---------------------------------------------------------------------------\u001b[0m",
      "\u001b[1;31mKeyError\u001b[0m                                  Traceback (most recent call last)",
      "File \u001b[1;32m~\\anaconda3\\Lib\\site-packages\\pandas\\core\\indexes\\base.py:3802\u001b[0m, in \u001b[0;36mIndex.get_loc\u001b[1;34m(self, key, method, tolerance)\u001b[0m\n\u001b[0;32m   3801\u001b[0m \u001b[38;5;28;01mtry\u001b[39;00m:\n\u001b[1;32m-> 3802\u001b[0m     \u001b[38;5;28;01mreturn\u001b[39;00m \u001b[38;5;28;43mself\u001b[39;49m\u001b[38;5;241;43m.\u001b[39;49m\u001b[43m_engine\u001b[49m\u001b[38;5;241;43m.\u001b[39;49m\u001b[43mget_loc\u001b[49m\u001b[43m(\u001b[49m\u001b[43mcasted_key\u001b[49m\u001b[43m)\u001b[49m\n\u001b[0;32m   3803\u001b[0m \u001b[38;5;28;01mexcept\u001b[39;00m \u001b[38;5;167;01mKeyError\u001b[39;00m \u001b[38;5;28;01mas\u001b[39;00m err:\n",
      "File \u001b[1;32m~\\anaconda3\\Lib\\site-packages\\pandas\\_libs\\index.pyx:138\u001b[0m, in \u001b[0;36mpandas._libs.index.IndexEngine.get_loc\u001b[1;34m()\u001b[0m\n",
      "File \u001b[1;32m~\\anaconda3\\Lib\\site-packages\\pandas\\_libs\\index.pyx:165\u001b[0m, in \u001b[0;36mpandas._libs.index.IndexEngine.get_loc\u001b[1;34m()\u001b[0m\n",
      "File \u001b[1;32mpandas\\_libs\\hashtable_class_helper.pxi:2263\u001b[0m, in \u001b[0;36mpandas._libs.hashtable.Int64HashTable.get_item\u001b[1;34m()\u001b[0m\n",
      "File \u001b[1;32mpandas\\_libs\\hashtable_class_helper.pxi:2273\u001b[0m, in \u001b[0;36mpandas._libs.hashtable.Int64HashTable.get_item\u001b[1;34m()\u001b[0m\n",
      "\u001b[1;31mKeyError\u001b[0m: 0",
      "\nThe above exception was the direct cause of the following exception:\n",
      "\u001b[1;31mKeyError\u001b[0m                                  Traceback (most recent call last)",
      "Cell \u001b[1;32mIn[29], line 1\u001b[0m\n\u001b[1;32m----> 1\u001b[0m \u001b[43mdata\u001b[49m\u001b[43m[\u001b[49m\u001b[38;5;241;43m0\u001b[39;49m\u001b[43m]\u001b[49m\n",
      "File \u001b[1;32m~\\anaconda3\\Lib\\site-packages\\pandas\\core\\series.py:981\u001b[0m, in \u001b[0;36mSeries.__getitem__\u001b[1;34m(self, key)\u001b[0m\n\u001b[0;32m    978\u001b[0m     \u001b[38;5;28;01mreturn\u001b[39;00m \u001b[38;5;28mself\u001b[39m\u001b[38;5;241m.\u001b[39m_values[key]\n\u001b[0;32m    980\u001b[0m \u001b[38;5;28;01melif\u001b[39;00m key_is_scalar:\n\u001b[1;32m--> 981\u001b[0m     \u001b[38;5;28;01mreturn\u001b[39;00m \u001b[38;5;28;43mself\u001b[39;49m\u001b[38;5;241;43m.\u001b[39;49m\u001b[43m_get_value\u001b[49m\u001b[43m(\u001b[49m\u001b[43mkey\u001b[49m\u001b[43m)\u001b[49m\n\u001b[0;32m    983\u001b[0m \u001b[38;5;28;01mif\u001b[39;00m is_hashable(key):\n\u001b[0;32m    984\u001b[0m     \u001b[38;5;66;03m# Otherwise index.get_value will raise InvalidIndexError\u001b[39;00m\n\u001b[0;32m    985\u001b[0m     \u001b[38;5;28;01mtry\u001b[39;00m:\n\u001b[0;32m    986\u001b[0m         \u001b[38;5;66;03m# For labels that don't resolve as scalars like tuples and frozensets\u001b[39;00m\n",
      "File \u001b[1;32m~\\anaconda3\\Lib\\site-packages\\pandas\\core\\series.py:1089\u001b[0m, in \u001b[0;36mSeries._get_value\u001b[1;34m(self, label, takeable)\u001b[0m\n\u001b[0;32m   1086\u001b[0m     \u001b[38;5;28;01mreturn\u001b[39;00m \u001b[38;5;28mself\u001b[39m\u001b[38;5;241m.\u001b[39m_values[label]\n\u001b[0;32m   1088\u001b[0m \u001b[38;5;66;03m# Similar to Index.get_value, but we do not fall back to positional\u001b[39;00m\n\u001b[1;32m-> 1089\u001b[0m loc \u001b[38;5;241m=\u001b[39m \u001b[38;5;28;43mself\u001b[39;49m\u001b[38;5;241;43m.\u001b[39;49m\u001b[43mindex\u001b[49m\u001b[38;5;241;43m.\u001b[39;49m\u001b[43mget_loc\u001b[49m\u001b[43m(\u001b[49m\u001b[43mlabel\u001b[49m\u001b[43m)\u001b[49m\n\u001b[0;32m   1090\u001b[0m \u001b[38;5;28;01mreturn\u001b[39;00m \u001b[38;5;28mself\u001b[39m\u001b[38;5;241m.\u001b[39mindex\u001b[38;5;241m.\u001b[39m_get_values_for_loc(\u001b[38;5;28mself\u001b[39m, loc, label)\n",
      "File \u001b[1;32m~\\anaconda3\\Lib\\site-packages\\pandas\\core\\indexes\\base.py:3804\u001b[0m, in \u001b[0;36mIndex.get_loc\u001b[1;34m(self, key, method, tolerance)\u001b[0m\n\u001b[0;32m   3802\u001b[0m     \u001b[38;5;28;01mreturn\u001b[39;00m \u001b[38;5;28mself\u001b[39m\u001b[38;5;241m.\u001b[39m_engine\u001b[38;5;241m.\u001b[39mget_loc(casted_key)\n\u001b[0;32m   3803\u001b[0m \u001b[38;5;28;01mexcept\u001b[39;00m \u001b[38;5;167;01mKeyError\u001b[39;00m \u001b[38;5;28;01mas\u001b[39;00m err:\n\u001b[1;32m-> 3804\u001b[0m     \u001b[38;5;28;01mraise\u001b[39;00m \u001b[38;5;167;01mKeyError\u001b[39;00m(key) \u001b[38;5;28;01mfrom\u001b[39;00m \u001b[38;5;21;01merr\u001b[39;00m\n\u001b[0;32m   3805\u001b[0m \u001b[38;5;28;01mexcept\u001b[39;00m \u001b[38;5;167;01mTypeError\u001b[39;00m:\n\u001b[0;32m   3806\u001b[0m     \u001b[38;5;66;03m# If we have a listlike key, _check_indexing_error will raise\u001b[39;00m\n\u001b[0;32m   3807\u001b[0m     \u001b[38;5;66;03m#  InvalidIndexError. Otherwise we fall through and re-raise\u001b[39;00m\n\u001b[0;32m   3808\u001b[0m     \u001b[38;5;66;03m#  the TypeError.\u001b[39;00m\n\u001b[0;32m   3809\u001b[0m     \u001b[38;5;28mself\u001b[39m\u001b[38;5;241m.\u001b[39m_check_indexing_error(key)\n",
      "\u001b[1;31mKeyError\u001b[0m: 0"
     ]
    }
   ],
   "source": [
    "data[0]"
   ]
  },
  {
   "cell_type": "markdown",
   "id": "37304722",
   "metadata": {},
   "source": [
    "Dictionary is a type of data in the Python programming language used to store mutable (changeable) and non-sequential data collections."
   ]
  },
  {
   "cell_type": "code",
   "execution_count": null,
   "id": "b2d17aa6",
   "metadata": {},
   "outputs": [],
   "source": [
    "# Dict"
   ]
  },
  {
   "cell_type": "code",
   "execution_count": 6,
   "id": "36d7ff66",
   "metadata": {},
   "outputs": [],
   "source": [
    "dict_populasi = {'Jakarta':750,\n",
    "                 'Bogor':490,\n",
    "                 'Depok':350,\n",
    "                 'Tanggerang':270,\n",
    "                 'Bekasi':670}\n"
   ]
  },
  {
   "cell_type": "code",
   "execution_count": 7,
   "id": "38fcacef",
   "metadata": {},
   "outputs": [],
   "source": [
    "populasi = pd.Series(dict_populasi)"
   ]
  },
  {
   "cell_type": "code",
   "execution_count": 8,
   "id": "80dc0646",
   "metadata": {},
   "outputs": [
    {
     "data": {
      "text/plain": [
       "Jakarta       750\n",
       "Bogor         490\n",
       "Depok         350\n",
       "Tanggerang    270\n",
       "Bekasi        670\n",
       "dtype: int64"
      ]
     },
     "execution_count": 8,
     "metadata": {},
     "output_type": "execute_result"
    }
   ],
   "source": [
    "populasi"
   ]
  },
  {
   "cell_type": "code",
   "execution_count": 9,
   "id": "1f7becd1",
   "metadata": {},
   "outputs": [
    {
     "data": {
      "text/plain": [
       "350"
      ]
     },
     "execution_count": 9,
     "metadata": {},
     "output_type": "execute_result"
    }
   ],
   "source": [
    "populasi.loc['Depok']"
   ]
  },
  {
   "cell_type": "code",
   "execution_count": 10,
   "id": "b0eace5e",
   "metadata": {},
   "outputs": [
    {
     "data": {
      "text/plain": [
       "350"
      ]
     },
     "execution_count": 10,
     "metadata": {},
     "output_type": "execute_result"
    }
   ],
   "source": [
    "populasi.iloc[2]"
   ]
  },
  {
   "cell_type": "code",
   "execution_count": 11,
   "id": "3f4795cb",
   "metadata": {},
   "outputs": [],
   "source": [
    "# Task 2\n"
   ]
  },
  {
   "cell_type": "code",
   "execution_count": 12,
   "id": "48fe1219",
   "metadata": {},
   "outputs": [],
   "source": [
    "nama = {\n",
    "    'nama': 'Ahmad',\n",
    "    'usia': 30,\n",
    "    'kota': 'Medan'\n",
    "}\n"
   ]
  },
  {
   "cell_type": "code",
   "execution_count": 13,
   "id": "d0d1ff2e",
   "metadata": {},
   "outputs": [],
   "source": [
    "nama = pd.Series(nama)"
   ]
  },
  {
   "cell_type": "code",
   "execution_count": 14,
   "id": "44b46167",
   "metadata": {},
   "outputs": [
    {
     "data": {
      "text/plain": [
       "nama    Ahmad\n",
       "usia       30\n",
       "kota    Medan\n",
       "dtype: object"
      ]
     },
     "execution_count": 14,
     "metadata": {},
     "output_type": "execute_result"
    }
   ],
   "source": [
    "nama"
   ]
  },
  {
   "cell_type": "code",
   "execution_count": 15,
   "id": "fce6abd4",
   "metadata": {},
   "outputs": [
    {
     "data": {
      "text/plain": [
       "'Ahmad'"
      ]
     },
     "execution_count": 15,
     "metadata": {},
     "output_type": "execute_result"
    }
   ],
   "source": [
    "nama.loc['nama']"
   ]
  },
  {
   "cell_type": "code",
   "execution_count": 16,
   "id": "d3abffb9",
   "metadata": {},
   "outputs": [
    {
     "data": {
      "text/plain": [
       "'Ahmad'"
      ]
     },
     "execution_count": 16,
     "metadata": {},
     "output_type": "execute_result"
    }
   ],
   "source": [
    "nama.iloc[0]"
   ]
  },
  {
   "cell_type": "code",
   "execution_count": 17,
   "id": "09a5759f",
   "metadata": {},
   "outputs": [],
   "source": [
    "# Advanced Dict"
   ]
  },
  {
   "cell_type": "code",
   "execution_count": 18,
   "id": "25ad182f",
   "metadata": {},
   "outputs": [],
   "source": [
    "dict_luas = {'Jakarta':750,\n",
    "                 'Bogor':490,\n",
    "                 'Depok':350,\n",
    "                 'Tanggerang':270,\n",
    "                 'Bekasi':670}"
   ]
  },
  {
   "cell_type": "code",
   "execution_count": 19,
   "id": "101c26b3",
   "metadata": {},
   "outputs": [],
   "source": [
    "luas = pd.Series(dict_luas)"
   ]
  },
  {
   "cell_type": "code",
   "execution_count": 20,
   "id": "d296a46a",
   "metadata": {},
   "outputs": [
    {
     "data": {
      "text/plain": [
       "{'Jakarta': 750, 'Bogor': 490, 'Depok': 350, 'Tanggerang': 270, 'Bekasi': 670}"
      ]
     },
     "execution_count": 20,
     "metadata": {},
     "output_type": "execute_result"
    }
   ],
   "source": [
    "dict_luas"
   ]
  },
  {
   "cell_type": "code",
   "execution_count": 21,
   "id": "ac87b60f",
   "metadata": {},
   "outputs": [
    {
     "data": {
      "text/plain": [
       "Jakarta       750\n",
       "Bogor         490\n",
       "Depok         350\n",
       "Tanggerang    270\n",
       "Bekasi        670\n",
       "dtype: int64"
      ]
     },
     "execution_count": 21,
     "metadata": {},
     "output_type": "execute_result"
    }
   ],
   "source": [
    "luas"
   ]
  },
  {
   "cell_type": "code",
   "execution_count": 22,
   "id": "980d25d0",
   "metadata": {},
   "outputs": [],
   "source": [
    "# Data frame"
   ]
  },
  {
   "cell_type": "markdown",
   "id": "fa5404c5",
   "metadata": {},
   "source": [
    "DataFrame is a collection of data organized into two-dimensional tables, similar to spreadsheets or tables in a database."
   ]
  },
  {
   "cell_type": "code",
   "execution_count": 23,
   "id": "7e760d8b",
   "metadata": {},
   "outputs": [],
   "source": [
    "daerah = pd.DataFrame({'pop': populasi, 'luas daerah': luas})"
   ]
  },
  {
   "cell_type": "code",
   "execution_count": 24,
   "id": "491728ad",
   "metadata": {},
   "outputs": [
    {
     "data": {
      "text/html": [
       "<div>\n",
       "<style scoped>\n",
       "    .dataframe tbody tr th:only-of-type {\n",
       "        vertical-align: middle;\n",
       "    }\n",
       "\n",
       "    .dataframe tbody tr th {\n",
       "        vertical-align: top;\n",
       "    }\n",
       "\n",
       "    .dataframe thead th {\n",
       "        text-align: right;\n",
       "    }\n",
       "</style>\n",
       "<table border=\"1\" class=\"dataframe\">\n",
       "  <thead>\n",
       "    <tr style=\"text-align: right;\">\n",
       "      <th></th>\n",
       "      <th>pop</th>\n",
       "      <th>luas daerah</th>\n",
       "    </tr>\n",
       "  </thead>\n",
       "  <tbody>\n",
       "    <tr>\n",
       "      <th>Jakarta</th>\n",
       "      <td>750</td>\n",
       "      <td>750</td>\n",
       "    </tr>\n",
       "    <tr>\n",
       "      <th>Bogor</th>\n",
       "      <td>490</td>\n",
       "      <td>490</td>\n",
       "    </tr>\n",
       "    <tr>\n",
       "      <th>Depok</th>\n",
       "      <td>350</td>\n",
       "      <td>350</td>\n",
       "    </tr>\n",
       "    <tr>\n",
       "      <th>Tanggerang</th>\n",
       "      <td>270</td>\n",
       "      <td>270</td>\n",
       "    </tr>\n",
       "    <tr>\n",
       "      <th>Bekasi</th>\n",
       "      <td>670</td>\n",
       "      <td>670</td>\n",
       "    </tr>\n",
       "  </tbody>\n",
       "</table>\n",
       "</div>"
      ],
      "text/plain": [
       "            pop  luas daerah\n",
       "Jakarta     750          750\n",
       "Bogor       490          490\n",
       "Depok       350          350\n",
       "Tanggerang  270          270\n",
       "Bekasi      670          670"
      ]
     },
     "execution_count": 24,
     "metadata": {},
     "output_type": "execute_result"
    }
   ],
   "source": [
    "daerah"
   ]
  },
  {
   "cell_type": "code",
   "execution_count": 25,
   "id": "313dae4d",
   "metadata": {},
   "outputs": [
    {
     "data": {
      "text/plain": [
       "750"
      ]
     },
     "execution_count": 25,
     "metadata": {},
     "output_type": "execute_result"
    }
   ],
   "source": [
    "daerah['luas daerah']['Jakarta']"
   ]
  },
  {
   "cell_type": "code",
   "execution_count": 26,
   "id": "b0f674e0",
   "metadata": {},
   "outputs": [
    {
     "data": {
      "text/plain": [
       "<bound method DataFrame.pop of             pop  luas daerah\n",
       "Jakarta     750          750\n",
       "Bogor       490          490\n",
       "Depok       350          350\n",
       "Tanggerang  270          270\n",
       "Bekasi      670          670>"
      ]
     },
     "execution_count": 26,
     "metadata": {},
     "output_type": "execute_result"
    }
   ],
   "source": [
    "daerah.pop"
   ]
  },
  {
   "cell_type": "code",
   "execution_count": 27,
   "id": "a75a4545",
   "metadata": {},
   "outputs": [
    {
     "data": {
      "text/html": [
       "<div>\n",
       "<style scoped>\n",
       "    .dataframe tbody tr th:only-of-type {\n",
       "        vertical-align: middle;\n",
       "    }\n",
       "\n",
       "    .dataframe tbody tr th {\n",
       "        vertical-align: top;\n",
       "    }\n",
       "\n",
       "    .dataframe thead th {\n",
       "        text-align: right;\n",
       "    }\n",
       "</style>\n",
       "<table border=\"1\" class=\"dataframe\">\n",
       "  <thead>\n",
       "    <tr style=\"text-align: right;\">\n",
       "      <th></th>\n",
       "      <th>pop</th>\n",
       "      <th>luas daerah</th>\n",
       "    </tr>\n",
       "  </thead>\n",
       "  <tbody>\n",
       "    <tr>\n",
       "      <th>Jakarta</th>\n",
       "      <td>750</td>\n",
       "      <td>750</td>\n",
       "    </tr>\n",
       "    <tr>\n",
       "      <th>Bogor</th>\n",
       "      <td>490</td>\n",
       "      <td>490</td>\n",
       "    </tr>\n",
       "    <tr>\n",
       "      <th>Depok</th>\n",
       "      <td>350</td>\n",
       "      <td>350</td>\n",
       "    </tr>\n",
       "    <tr>\n",
       "      <th>Tanggerang</th>\n",
       "      <td>270</td>\n",
       "      <td>270</td>\n",
       "    </tr>\n",
       "    <tr>\n",
       "      <th>Bekasi</th>\n",
       "      <td>670</td>\n",
       "      <td>670</td>\n",
       "    </tr>\n",
       "  </tbody>\n",
       "</table>\n",
       "</div>"
      ],
      "text/plain": [
       "            pop  luas daerah\n",
       "Jakarta     750          750\n",
       "Bogor       490          490\n",
       "Depok       350          350\n",
       "Tanggerang  270          270\n",
       "Bekasi      670          670"
      ]
     },
     "execution_count": 27,
     "metadata": {},
     "output_type": "execute_result"
    }
   ],
   "source": [
    "daerah"
   ]
  },
  {
   "cell_type": "code",
   "execution_count": 30,
   "id": "1c96dca3",
   "metadata": {},
   "outputs": [
    {
     "data": {
      "text/plain": [
       "350"
      ]
     },
     "execution_count": 30,
     "metadata": {},
     "output_type": "execute_result"
    }
   ],
   "source": [
    "daerah['luas daerah']['Depok']"
   ]
  },
  {
   "cell_type": "code",
   "execution_count": 29,
   "id": "2b3734b2",
   "metadata": {},
   "outputs": [
    {
     "data": {
      "text/plain": [
       "<bound method Series.pop of Jakarta       750\n",
       "Bogor         490\n",
       "Depok         350\n",
       "Tanggerang    270\n",
       "Bekasi        670\n",
       "dtype: int64>"
      ]
     },
     "execution_count": 29,
     "metadata": {},
     "output_type": "execute_result"
    }
   ],
   "source": [
    "luas.pop"
   ]
  },
  {
   "cell_type": "code",
   "execution_count": null,
   "id": "3cb760e3",
   "metadata": {},
   "outputs": [],
   "source": [
    "# Task 3"
   ]
  },
  {
   "cell_type": "code",
   "execution_count": 31,
   "id": "0f18c222",
   "metadata": {},
   "outputs": [],
   "source": [
    "dict_buah = {'Melon':75,\n",
    "                 'Jeruk':49,\n",
    "                 'Alpukat':35,\n",
    "                 'Mangga':27,\n",
    "                 'Semangka':67}\n"
   ]
  },
  {
   "cell_type": "code",
   "execution_count": 32,
   "id": "6929abc4",
   "metadata": {},
   "outputs": [],
   "source": [
    "buah = pd.Series(dict_buah)"
   ]
  },
  {
   "cell_type": "code",
   "execution_count": 33,
   "id": "48c62d78",
   "metadata": {},
   "outputs": [
    {
     "data": {
      "text/plain": [
       "Melon       75\n",
       "Jeruk       49\n",
       "Alpukat     35\n",
       "Mangga      27\n",
       "Semangka    67\n",
       "dtype: int64"
      ]
     },
     "execution_count": 33,
     "metadata": {},
     "output_type": "execute_result"
    }
   ],
   "source": [
    "buah"
   ]
  },
  {
   "cell_type": "code",
   "execution_count": 34,
   "id": "1db9f276",
   "metadata": {},
   "outputs": [],
   "source": [
    "harga_buah = {'Melon':15000,\n",
    "                 'Jeruk':90000,\n",
    "                 'Alpukat':35000,\n",
    "                 'Mangga':20000,\n",
    "                 'Semangka':60000}"
   ]
  },
  {
   "cell_type": "code",
   "execution_count": 35,
   "id": "9ffecf39",
   "metadata": {},
   "outputs": [],
   "source": [
    "harga = pd.Series(harga_buah)"
   ]
  },
  {
   "cell_type": "code",
   "execution_count": 36,
   "id": "70ef9b0a",
   "metadata": {},
   "outputs": [
    {
     "data": {
      "text/plain": [
       "Melon       15000\n",
       "Jeruk       90000\n",
       "Alpukat     35000\n",
       "Mangga      20000\n",
       "Semangka    60000\n",
       "dtype: int64"
      ]
     },
     "execution_count": 36,
     "metadata": {},
     "output_type": "execute_result"
    }
   ],
   "source": [
    "harga"
   ]
  },
  {
   "cell_type": "code",
   "execution_count": 37,
   "id": "78b60465",
   "metadata": {},
   "outputs": [],
   "source": [
    "KG = {'Melon':15,\n",
    "     'Jeruk':9,\n",
    "     'Alpukat':3,\n",
    "    'Mangga':20,\n",
    "    'Semangka':10}"
   ]
  },
  {
   "cell_type": "code",
   "execution_count": 38,
   "id": "189a60d2",
   "metadata": {},
   "outputs": [],
   "source": [
    "Satuan = pd.Series(KG)"
   ]
  },
  {
   "cell_type": "code",
   "execution_count": 39,
   "id": "cef60f21",
   "metadata": {},
   "outputs": [
    {
     "data": {
      "text/plain": [
       "{'Melon': 15, 'Jeruk': 9, 'Alpukat': 3, 'Mangga': 20, 'Semangka': 10}"
      ]
     },
     "execution_count": 39,
     "metadata": {},
     "output_type": "execute_result"
    }
   ],
   "source": [
    "KG"
   ]
  },
  {
   "cell_type": "code",
   "execution_count": 40,
   "id": "fc1aa26b",
   "metadata": {},
   "outputs": [],
   "source": [
    "oleh_oleh = pd.DataFrame({'Isi': dict_buah, 'Jenis Buah': buah, 'Satuan (kg)': KG, 'Harga (Rp)': harga_buah})\n"
   ]
  },
  {
   "cell_type": "code",
   "execution_count": 41,
   "id": "7c5cc3f5",
   "metadata": {},
   "outputs": [
    {
     "data": {
      "text/html": [
       "<div>\n",
       "<style scoped>\n",
       "    .dataframe tbody tr th:only-of-type {\n",
       "        vertical-align: middle;\n",
       "    }\n",
       "\n",
       "    .dataframe tbody tr th {\n",
       "        vertical-align: top;\n",
       "    }\n",
       "\n",
       "    .dataframe thead th {\n",
       "        text-align: right;\n",
       "    }\n",
       "</style>\n",
       "<table border=\"1\" class=\"dataframe\">\n",
       "  <thead>\n",
       "    <tr style=\"text-align: right;\">\n",
       "      <th></th>\n",
       "      <th>Isi</th>\n",
       "      <th>Jenis Buah</th>\n",
       "      <th>Satuan (kg)</th>\n",
       "      <th>Harga (Rp)</th>\n",
       "    </tr>\n",
       "  </thead>\n",
       "  <tbody>\n",
       "    <tr>\n",
       "      <th>Melon</th>\n",
       "      <td>75</td>\n",
       "      <td>75</td>\n",
       "      <td>15</td>\n",
       "      <td>15000</td>\n",
       "    </tr>\n",
       "    <tr>\n",
       "      <th>Jeruk</th>\n",
       "      <td>49</td>\n",
       "      <td>49</td>\n",
       "      <td>9</td>\n",
       "      <td>90000</td>\n",
       "    </tr>\n",
       "    <tr>\n",
       "      <th>Alpukat</th>\n",
       "      <td>35</td>\n",
       "      <td>35</td>\n",
       "      <td>3</td>\n",
       "      <td>35000</td>\n",
       "    </tr>\n",
       "    <tr>\n",
       "      <th>Mangga</th>\n",
       "      <td>27</td>\n",
       "      <td>27</td>\n",
       "      <td>20</td>\n",
       "      <td>20000</td>\n",
       "    </tr>\n",
       "    <tr>\n",
       "      <th>Semangka</th>\n",
       "      <td>67</td>\n",
       "      <td>67</td>\n",
       "      <td>10</td>\n",
       "      <td>60000</td>\n",
       "    </tr>\n",
       "  </tbody>\n",
       "</table>\n",
       "</div>"
      ],
      "text/plain": [
       "          Isi  Jenis Buah  Satuan (kg)  Harga (Rp)\n",
       "Melon      75          75           15       15000\n",
       "Jeruk      49          49            9       90000\n",
       "Alpukat    35          35            3       35000\n",
       "Mangga     27          27           20       20000\n",
       "Semangka   67          67           10       60000"
      ]
     },
     "execution_count": 41,
     "metadata": {},
     "output_type": "execute_result"
    }
   ],
   "source": [
    "oleh_oleh"
   ]
  },
  {
   "cell_type": "code",
   "execution_count": 42,
   "id": "98c7709d",
   "metadata": {},
   "outputs": [
    {
     "data": {
      "text/plain": [
       "27"
      ]
     },
     "execution_count": 42,
     "metadata": {},
     "output_type": "execute_result"
    }
   ],
   "source": [
    "oleh_oleh['Isi']['Mangga']"
   ]
  },
  {
   "cell_type": "code",
   "execution_count": 43,
   "id": "1e025394",
   "metadata": {},
   "outputs": [],
   "source": [
    "# Task 4 Rename the fruit and call loc &iloc"
   ]
  },
  {
   "cell_type": "code",
   "execution_count": 44,
   "id": "478d3f08",
   "metadata": {},
   "outputs": [],
   "source": [
    "oleh_oleh = pd.DataFrame({'jumlah': dict_buah, 'Jenis Buah': buah, 'Satuan (kg)': KG, 'Harga (Rp)': harga_buah}) # rename jumlah"
   ]
  },
  {
   "cell_type": "code",
   "execution_count": 45,
   "id": "8176f6ce",
   "metadata": {},
   "outputs": [
    {
     "data": {
      "text/html": [
       "<div>\n",
       "<style scoped>\n",
       "    .dataframe tbody tr th:only-of-type {\n",
       "        vertical-align: middle;\n",
       "    }\n",
       "\n",
       "    .dataframe tbody tr th {\n",
       "        vertical-align: top;\n",
       "    }\n",
       "\n",
       "    .dataframe thead th {\n",
       "        text-align: right;\n",
       "    }\n",
       "</style>\n",
       "<table border=\"1\" class=\"dataframe\">\n",
       "  <thead>\n",
       "    <tr style=\"text-align: right;\">\n",
       "      <th></th>\n",
       "      <th>jumlah</th>\n",
       "      <th>Jenis Buah</th>\n",
       "      <th>Satuan (kg)</th>\n",
       "      <th>Harga (Rp)</th>\n",
       "    </tr>\n",
       "  </thead>\n",
       "  <tbody>\n",
       "    <tr>\n",
       "      <th>Melon</th>\n",
       "      <td>75</td>\n",
       "      <td>75</td>\n",
       "      <td>15</td>\n",
       "      <td>15000</td>\n",
       "    </tr>\n",
       "    <tr>\n",
       "      <th>Jeruk</th>\n",
       "      <td>49</td>\n",
       "      <td>49</td>\n",
       "      <td>9</td>\n",
       "      <td>90000</td>\n",
       "    </tr>\n",
       "    <tr>\n",
       "      <th>Alpukat</th>\n",
       "      <td>35</td>\n",
       "      <td>35</td>\n",
       "      <td>3</td>\n",
       "      <td>35000</td>\n",
       "    </tr>\n",
       "    <tr>\n",
       "      <th>Mangga</th>\n",
       "      <td>27</td>\n",
       "      <td>27</td>\n",
       "      <td>20</td>\n",
       "      <td>20000</td>\n",
       "    </tr>\n",
       "    <tr>\n",
       "      <th>Semangka</th>\n",
       "      <td>67</td>\n",
       "      <td>67</td>\n",
       "      <td>10</td>\n",
       "      <td>60000</td>\n",
       "    </tr>\n",
       "  </tbody>\n",
       "</table>\n",
       "</div>"
      ],
      "text/plain": [
       "          jumlah  Jenis Buah  Satuan (kg)  Harga (Rp)\n",
       "Melon         75          75           15       15000\n",
       "Jeruk         49          49            9       90000\n",
       "Alpukat       35          35            3       35000\n",
       "Mangga        27          27           20       20000\n",
       "Semangka      67          67           10       60000"
      ]
     },
     "execution_count": 45,
     "metadata": {},
     "output_type": "execute_result"
    }
   ],
   "source": [
    "oleh_oleh"
   ]
  },
  {
   "cell_type": "code",
   "execution_count": 46,
   "id": "f716c4fa",
   "metadata": {},
   "outputs": [
    {
     "data": {
      "text/plain": [
       "Mangga      27\n",
       "Semangka    67\n",
       "Name: jumlah, dtype: int64"
      ]
     },
     "execution_count": 46,
     "metadata": {},
     "output_type": "execute_result"
    }
   ],
   "source": [
    "oleh_oleh['jumlah']['Mangga': 'Semangka'] # explicit index"
   ]
  },
  {
   "cell_type": "code",
   "execution_count": 47,
   "id": "b6d2cd60",
   "metadata": {},
   "outputs": [
    {
     "data": {
      "text/plain": [
       "Jeruk       49\n",
       "Alpukat     35\n",
       "Mangga      27\n",
       "Semangka    67\n",
       "Name: jumlah, dtype: int64"
      ]
     },
     "execution_count": 47,
     "metadata": {},
     "output_type": "execute_result"
    }
   ],
   "source": [
    "oleh_oleh['jumlah'].iloc[1 : 5] # Implicit index"
   ]
  },
  {
   "cell_type": "code",
   "execution_count": null,
   "id": "a36de412",
   "metadata": {},
   "outputs": [],
   "source": []
  },
  {
   "cell_type": "code",
   "execution_count": null,
   "id": "a156c565",
   "metadata": {},
   "outputs": [],
   "source": []
  }
 ],
 "metadata": {
  "kernelspec": {
   "display_name": "Python 3 (ipykernel)",
   "language": "python",
   "name": "python3"
  },
  "language_info": {
   "codemirror_mode": {
    "name": "ipython",
    "version": 3
   },
   "file_extension": ".py",
   "mimetype": "text/x-python",
   "name": "python",
   "nbconvert_exporter": "python",
   "pygments_lexer": "ipython3",
   "version": "3.11.4"
  }
 },
 "nbformat": 4,
 "nbformat_minor": 5
}
