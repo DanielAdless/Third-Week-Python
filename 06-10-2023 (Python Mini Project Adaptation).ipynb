{
 "cells": [
  {
   "cell_type": "markdown",
   "id": "9ffbf883",
   "metadata": {},
   "source": [
    "Task 1. Conducted a survey of the social economic conditions of 4 family heads in Maharaja village by recording the names of the family heads and the total monthly expenditure of the family."
   ]
  },
  {
   "cell_type": "code",
   "execution_count": 1,
   "id": "22bb93b8",
   "metadata": {},
   "outputs": [
    {
     "name": "stdout",
     "output_type": "stream",
     "text": [
      "Masukkan nama kepala keluarga: mamat\n",
      "Masukkan total pengeluaran bulanan keluarga: 500000\n",
      "Masukkan nama kepala keluarga: burhan\n",
      "Masukkan total pengeluaran bulanan keluarga: 9000000\n",
      "Masukkan nama kepala keluarga: Jamal\n",
      "Masukkan total pengeluaran bulanan keluarga: 658000\n",
      "Masukkan nama kepala keluarga: Yudi\n",
      "Masukkan total pengeluaran bulanan keluarga: 6580000\n",
      "Hasil survei:\n",
      "Nama Kepala Keluarga: mamat, Total Pengeluaran Bulanan: 500000.0\n",
      "Nama Kepala Keluarga: burhan, Total Pengeluaran Bulanan: 9000000.0\n",
      "Nama Kepala Keluarga: Jamal, Total Pengeluaran Bulanan: 658000.0\n",
      "Nama Kepala Keluarga: Yudi, Total Pengeluaran Bulanan: 6580000.0\n"
     ]
    }
   ],
   "source": [
    "# store survey data\n",
    "data_survey = []\n",
    "\n",
    "# Iterate 4 times\n",
    "for i in range(4):\n",
    "    nama = input(\"Masukkan nama kepala keluarga: \")\n",
    "    pengeluaran = float(input(\"Masukkan total pengeluaran bulanan keluarga: \"))\n",
    "    data_survey.append((nama, pengeluaran))\n",
    "\n",
    "# Show survey results\n",
    "print(\"Hasil survei:\")\n",
    "for nama, pengeluaran in data_survey:\n",
    "    print(f\"Nama Kepala Keluarga: {nama}, Total Pengeluaran Bulanan: {pengeluaran}\")\n"
   ]
  },
  {
   "cell_type": "markdown",
   "id": "1dd02fd4",
   "metadata": {},
   "source": [
    "Task 2. Knowing the category of one's grades at the time of the driver's license examination"
   ]
  },
  {
   "cell_type": "code",
   "execution_count": 2,
   "id": "9270f7a8",
   "metadata": {},
   "outputs": [
    {
     "name": "stdout",
     "output_type": "stream",
     "text": [
      "Masukkan nilai ujian SIM anda: 65\n",
      "Kategori nilai ujian SIM  Anda adalah: D\n"
     ]
    }
   ],
   "source": [
    "nilai = int(input(\"Masukkan nilai ujian SIM anda: \"))\n",
    "\n",
    "# category by value\n",
    "if nilai >= 90:\n",
    "    kategori = \"A\"\n",
    "elif nilai >= 80:\n",
    "    kategori = \"B\"\n",
    "elif nilai >= 70:\n",
    "    kategori = \"C\"\n",
    "else:\n",
    "    kategori = \"D\"\n",
    "\n",
    "# Show value categories\n",
    "print(f\"Kategori nilai ujian SIM  Anda adalah: {kategori}\")\n"
   ]
  },
  {
   "cell_type": "markdown",
   "id": "fb0faa07",
   "metadata": {},
   "source": [
    "Task 3. Create a function called \"category_borrower\" that has one parameter that is \"number_books\". This function aims to categorize borrowers by the number of books borrowed."
   ]
  },
  {
   "cell_type": "code",
   "execution_count": 5,
   "id": "1befd26d",
   "metadata": {},
   "outputs": [
    {
     "name": "stdout",
     "output_type": "stream",
     "text": [
      "Masukkan jumlah buku yang dipinjam: 12\n",
      "Kategori peminjam: Peminjam Aktif\n"
     ]
    }
   ],
   "source": [
    "def kategori_peminjam(jumlah_buku):\n",
    "    try:\n",
    "        # Checking the number of books is an integer\n",
    "        if not isinstance(jumlah_buku, int) or jumlah_buku < 0:\n",
    "            raise ValueError(\"Jumlah buku harus berupa bilangan bulat positif\")\n",
    "        \n",
    "        # category of borrowers by number of books\n",
    "        if jumlah_buku > 5:\n",
    "            return \"Peminjam Aktif\"\n",
    "        elif 2 <= jumlah_buku <= 5:\n",
    "            return \"Peminjam Biasa\"\n",
    "        else:\n",
    "            return \"Peminjam Jarang\"\n",
    "    except ValueError as e:\n",
    "        return str(e)\n",
    "\n",
    "# function call\n",
    "try:\n",
    "    jumlah_buku = int(input(\"Masukkan jumlah buku yang dipinjam: \"))\n",
    "    kategori = kategori_peminjam(jumlah_buku)\n",
    "    print(f\"Kategori peminjam: {kategori}\")\n",
    "except ValueError as e:\n",
    "    print(e)\n"
   ]
  },
  {
   "cell_type": "code",
   "execution_count": 4,
   "id": "aea47d73",
   "metadata": {},
   "outputs": [
    {
     "name": "stdout",
     "output_type": "stream",
     "text": [
      "Masukkan jumlah data peminjam: 6\n",
      "Masukkan jumlah buku yang dipinjam (data ke-1): 2\n",
      "Kategori peminjam (data ke-1): Peminjam Biasa\n",
      "Masukkan jumlah buku yang dipinjam (data ke-2): 12\n",
      "Kategori peminjam (data ke-2): Peminjam Aktif\n",
      "Masukkan jumlah buku yang dipinjam (data ke-3): 5\n",
      "Kategori peminjam (data ke-3): Peminjam Biasa\n",
      "Masukkan jumlah buku yang dipinjam (data ke-4): 7\n",
      "Kategori peminjam (data ke-4): Peminjam Aktif\n",
      "Masukkan jumlah buku yang dipinjam (data ke-5): 9\n",
      "Kategori peminjam (data ke-5): Peminjam Aktif\n",
      "Masukkan jumlah buku yang dipinjam (data ke-6): 10\n",
      "Kategori peminjam (data ke-6): Peminjam Aktif\n"
     ]
    }
   ],
   "source": [
    "def kategori_peminjam(jumlah_buku):\n",
    "    try:\n",
    "        # the number of books is an integer\n",
    "        if not isinstance(jumlah_buku, int) or jumlah_buku < 0:\n",
    "            raise ValueError(\"Jumlah buku harus berupa bilangan bulat positif\")\n",
    "        \n",
    "        # a borrower by number of books\n",
    "        if jumlah_buku > 5:\n",
    "            return \"Peminjam Aktif\"\n",
    "        elif 2 <= jumlah_buku <= 5:\n",
    "            return \"Peminjam Biasa\"\n",
    "        else:\n",
    "            return \"Peminjam Jarang\"\n",
    "    except ValueError as e:\n",
    "        return str(e)\n",
    "\n",
    "# number of books from the user\n",
    "try:\n",
    "    num_entries = int(input(\"Masukkan jumlah data peminjam: \"))\n",
    "    for i in range(num_entries):\n",
    "        jumlah_buku = int(input(f\"Masukkan jumlah buku yang dipinjam (data ke-{i+1}): \"))\n",
    "        kategori = kategori_peminjam(jumlah_buku)\n",
    "        print(f\"Kategori peminjam (data ke-{i+1}): {kategori}\")\n",
    "except ValueError as e:\n",
    "    print(e)\n"
   ]
  },
  {
   "cell_type": "code",
   "execution_count": null,
   "id": "b80b7715",
   "metadata": {},
   "outputs": [],
   "source": []
  },
  {
   "cell_type": "code",
   "execution_count": null,
   "id": "904162ab",
   "metadata": {},
   "outputs": [],
   "source": []
  },
  {
   "cell_type": "code",
   "execution_count": null,
   "id": "78c4e35b",
   "metadata": {},
   "outputs": [],
   "source": []
  },
  {
   "cell_type": "code",
   "execution_count": null,
   "id": "23cd67b6",
   "metadata": {},
   "outputs": [],
   "source": []
  },
  {
   "cell_type": "code",
   "execution_count": null,
   "id": "1a3a9e66",
   "metadata": {},
   "outputs": [],
   "source": []
  },
  {
   "cell_type": "code",
   "execution_count": null,
   "id": "9a3b1314",
   "metadata": {},
   "outputs": [],
   "source": []
  }
 ],
 "metadata": {
  "kernelspec": {
   "display_name": "Python 3 (ipykernel)",
   "language": "python",
   "name": "python3"
  },
  "language_info": {
   "codemirror_mode": {
    "name": "ipython",
    "version": 3
   },
   "file_extension": ".py",
   "mimetype": "text/x-python",
   "name": "python",
   "nbconvert_exporter": "python",
   "pygments_lexer": "ipython3",
   "version": "3.11.4"
  }
 },
 "nbformat": 4,
 "nbformat_minor": 5
}
